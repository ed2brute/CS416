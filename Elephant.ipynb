{
 "cells": [
  {
   "cell_type": "markdown",
   "metadata": {},
   "source": [
    "# Create the Elephant Curve\n",
    "\n",
    "Create your own \"elephant chart\" of the percentage change of income, measured over percentiles of the world population ranked by income.\n",
    "\n",
    "The data is available as the [Lakner-Milanovic 2013 World Panel Income Distribution (LM-WPID)](http://www.worldbank.org/en/research/brief/World-Panel-Income-Distribution). This database measures the annual income of an individual across several dimensions including country and income decile group. First we'll load pyplot from matplotlib to plot the data, and then pandas to wrangle the data..."
   ]
  },
  {
   "cell_type": "code",
   "execution_count": 1,
   "metadata": {},
   "outputs": [],
   "source": [
    "import matplotlib\n",
    "import matplotlib.pyplot as plt\n",
    "%matplotlib inline"
   ]
  },
  {
   "cell_type": "markdown",
   "metadata": {},
   "source": [
    "We'll be using the Pandas python library, and you can find the documentation for Pandas at this link.\n",
    "\n",
    "https://pandas.pydata.org/docs/\n",
    "\n",
    "The documentation includes the following useful tutorials.\n",
    "\n",
    "* [10 minutes to pandas](https://pandas.pydata.org/docs/user_guide/10min.html)\n",
    "\n",
    "* [Essential basic functionality](https://pandas.pydata.org/docs/user_guide/basics.html)"
   ]
  },
  {
   "cell_type": "code",
   "execution_count": 2,
   "metadata": {},
   "outputs": [
    {
     "data": {
      "text/plain": [
       "'1.0.3'"
      ]
     },
     "execution_count": 2,
     "metadata": {},
     "output_type": "execute_result"
    }
   ],
   "source": [
    "import pandas as pd\n",
    "pd.__version__"
   ]
  },
  {
   "cell_type": "markdown",
   "metadata": {},
   "source": [
    "Now we can load the world panel income distribution database from a local copy of this [csv file](http://pubdocs.worldbank.org/en/972401475765303436/LM-WPID-web.csv)."
   ]
  },
  {
   "cell_type": "code",
   "execution_count": 3,
   "metadata": {},
   "outputs": [],
   "source": [
    "lmwpid = pd.read_csv('LMWPIDweb.csv')"
   ]
  },
  {
   "cell_type": "code",
   "execution_count": 4,
   "metadata": {},
   "outputs": [
    {
     "data": {
      "text/html": [
       "<div>\n",
       "<style scoped>\n",
       "    .dataframe tbody tr th:only-of-type {\n",
       "        vertical-align: middle;\n",
       "    }\n",
       "\n",
       "    .dataframe tbody tr th {\n",
       "        vertical-align: top;\n",
       "    }\n",
       "\n",
       "    .dataframe thead th {\n",
       "        text-align: right;\n",
       "    }\n",
       "</style>\n",
       "<table border=\"1\" class=\"dataframe\">\n",
       "  <thead>\n",
       "    <tr style=\"text-align: right;\">\n",
       "      <th></th>\n",
       "      <th>contcod</th>\n",
       "      <th>country</th>\n",
       "      <th>region</th>\n",
       "      <th>year</th>\n",
       "      <th>inc_con</th>\n",
       "      <th>source</th>\n",
       "      <th>mysample</th>\n",
       "      <th>bin_year</th>\n",
       "      <th>group</th>\n",
       "      <th>pop</th>\n",
       "      <th>RRinc</th>\n",
       "      <th>RRmean</th>\n",
       "      <th>cons_2005ppp_pc</th>\n",
       "      <th>gdp_2005ppp_pc</th>\n",
       "      <th>totpop</th>\n",
       "    </tr>\n",
       "  </thead>\n",
       "  <tbody>\n",
       "    <tr>\n",
       "      <th>0</th>\n",
       "      <td>AGO</td>\n",
       "      <td>Angola</td>\n",
       "      <td>Sub-Saharan Africa</td>\n",
       "      <td>1995</td>\n",
       "      <td>C</td>\n",
       "      <td>wyd</td>\n",
       "      <td>1</td>\n",
       "      <td>1993</td>\n",
       "      <td>1</td>\n",
       "      <td>1.137175</td>\n",
       "      <td>174.0</td>\n",
       "      <td>806</td>\n",
       "      <td>NaN</td>\n",
       "      <td>2090.259277</td>\n",
       "      <td>11.371750</td>\n",
       "    </tr>\n",
       "    <tr>\n",
       "      <th>1</th>\n",
       "      <td>AGO</td>\n",
       "      <td>Angola</td>\n",
       "      <td>Sub-Saharan Africa</td>\n",
       "      <td>1995</td>\n",
       "      <td>C</td>\n",
       "      <td>wyd</td>\n",
       "      <td>1</td>\n",
       "      <td>1993</td>\n",
       "      <td>2</td>\n",
       "      <td>1.137175</td>\n",
       "      <td>287.0</td>\n",
       "      <td>806</td>\n",
       "      <td>NaN</td>\n",
       "      <td>2090.259277</td>\n",
       "      <td>11.371750</td>\n",
       "    </tr>\n",
       "    <tr>\n",
       "      <th>2</th>\n",
       "      <td>AGO</td>\n",
       "      <td>Angola</td>\n",
       "      <td>Sub-Saharan Africa</td>\n",
       "      <td>1995</td>\n",
       "      <td>C</td>\n",
       "      <td>wyd</td>\n",
       "      <td>1</td>\n",
       "      <td>1993</td>\n",
       "      <td>3</td>\n",
       "      <td>1.137175</td>\n",
       "      <td>373.0</td>\n",
       "      <td>806</td>\n",
       "      <td>NaN</td>\n",
       "      <td>2090.259277</td>\n",
       "      <td>11.371750</td>\n",
       "    </tr>\n",
       "    <tr>\n",
       "      <th>3</th>\n",
       "      <td>AGO</td>\n",
       "      <td>Angola</td>\n",
       "      <td>Sub-Saharan Africa</td>\n",
       "      <td>1995</td>\n",
       "      <td>C</td>\n",
       "      <td>wyd</td>\n",
       "      <td>1</td>\n",
       "      <td>1993</td>\n",
       "      <td>4</td>\n",
       "      <td>1.137175</td>\n",
       "      <td>450.0</td>\n",
       "      <td>806</td>\n",
       "      <td>NaN</td>\n",
       "      <td>2090.259277</td>\n",
       "      <td>11.371750</td>\n",
       "    </tr>\n",
       "    <tr>\n",
       "      <th>4</th>\n",
       "      <td>AGO</td>\n",
       "      <td>Angola</td>\n",
       "      <td>Sub-Saharan Africa</td>\n",
       "      <td>1995</td>\n",
       "      <td>C</td>\n",
       "      <td>wyd</td>\n",
       "      <td>1</td>\n",
       "      <td>1993</td>\n",
       "      <td>5</td>\n",
       "      <td>1.137175</td>\n",
       "      <td>538.0</td>\n",
       "      <td>806</td>\n",
       "      <td>NaN</td>\n",
       "      <td>2090.259277</td>\n",
       "      <td>11.371750</td>\n",
       "    </tr>\n",
       "    <tr>\n",
       "      <th>...</th>\n",
       "      <td>...</td>\n",
       "      <td>...</td>\n",
       "      <td>...</td>\n",
       "      <td>...</td>\n",
       "      <td>...</td>\n",
       "      <td>...</td>\n",
       "      <td>...</td>\n",
       "      <td>...</td>\n",
       "      <td>...</td>\n",
       "      <td>...</td>\n",
       "      <td>...</td>\n",
       "      <td>...</td>\n",
       "      <td>...</td>\n",
       "      <td>...</td>\n",
       "      <td>...</td>\n",
       "    </tr>\n",
       "    <tr>\n",
       "      <th>5795</th>\n",
       "      <td>ZWE</td>\n",
       "      <td>Zimbabwe</td>\n",
       "      <td>Sub-Saharan Africa</td>\n",
       "      <td>1996</td>\n",
       "      <td>C</td>\n",
       "      <td>wyd</td>\n",
       "      <td>1</td>\n",
       "      <td>1998</td>\n",
       "      <td>6</td>\n",
       "      <td>1.226174</td>\n",
       "      <td>381.0</td>\n",
       "      <td>552</td>\n",
       "      <td>549.659005</td>\n",
       "      <td>677.041626</td>\n",
       "      <td>12.261742</td>\n",
       "    </tr>\n",
       "    <tr>\n",
       "      <th>5796</th>\n",
       "      <td>ZWE</td>\n",
       "      <td>Zimbabwe</td>\n",
       "      <td>Sub-Saharan Africa</td>\n",
       "      <td>1996</td>\n",
       "      <td>C</td>\n",
       "      <td>wyd</td>\n",
       "      <td>1</td>\n",
       "      <td>1998</td>\n",
       "      <td>7</td>\n",
       "      <td>1.226174</td>\n",
       "      <td>463.0</td>\n",
       "      <td>552</td>\n",
       "      <td>549.659005</td>\n",
       "      <td>677.041626</td>\n",
       "      <td>12.261742</td>\n",
       "    </tr>\n",
       "    <tr>\n",
       "      <th>5797</th>\n",
       "      <td>ZWE</td>\n",
       "      <td>Zimbabwe</td>\n",
       "      <td>Sub-Saharan Africa</td>\n",
       "      <td>1996</td>\n",
       "      <td>C</td>\n",
       "      <td>wyd</td>\n",
       "      <td>1</td>\n",
       "      <td>1998</td>\n",
       "      <td>8</td>\n",
       "      <td>1.226174</td>\n",
       "      <td>597.0</td>\n",
       "      <td>552</td>\n",
       "      <td>549.659005</td>\n",
       "      <td>677.041626</td>\n",
       "      <td>12.261742</td>\n",
       "    </tr>\n",
       "    <tr>\n",
       "      <th>5798</th>\n",
       "      <td>ZWE</td>\n",
       "      <td>Zimbabwe</td>\n",
       "      <td>Sub-Saharan Africa</td>\n",
       "      <td>1996</td>\n",
       "      <td>C</td>\n",
       "      <td>wyd</td>\n",
       "      <td>1</td>\n",
       "      <td>1998</td>\n",
       "      <td>9</td>\n",
       "      <td>1.226174</td>\n",
       "      <td>837.0</td>\n",
       "      <td>552</td>\n",
       "      <td>549.659005</td>\n",
       "      <td>677.041626</td>\n",
       "      <td>12.261742</td>\n",
       "    </tr>\n",
       "    <tr>\n",
       "      <th>5799</th>\n",
       "      <td>ZWE</td>\n",
       "      <td>Zimbabwe</td>\n",
       "      <td>Sub-Saharan Africa</td>\n",
       "      <td>1996</td>\n",
       "      <td>C</td>\n",
       "      <td>wyd</td>\n",
       "      <td>1</td>\n",
       "      <td>1998</td>\n",
       "      <td>10</td>\n",
       "      <td>1.226174</td>\n",
       "      <td>2180.0</td>\n",
       "      <td>552</td>\n",
       "      <td>549.659005</td>\n",
       "      <td>677.041626</td>\n",
       "      <td>12.261742</td>\n",
       "    </tr>\n",
       "  </tbody>\n",
       "</table>\n",
       "<p>5800 rows × 15 columns</p>\n",
       "</div>"
      ],
      "text/plain": [
       "     contcod   country              region  year inc_con source  mysample  \\\n",
       "0        AGO    Angola  Sub-Saharan Africa  1995       C    wyd         1   \n",
       "1        AGO    Angola  Sub-Saharan Africa  1995       C    wyd         1   \n",
       "2        AGO    Angola  Sub-Saharan Africa  1995       C    wyd         1   \n",
       "3        AGO    Angola  Sub-Saharan Africa  1995       C    wyd         1   \n",
       "4        AGO    Angola  Sub-Saharan Africa  1995       C    wyd         1   \n",
       "...      ...       ...                 ...   ...     ...    ...       ...   \n",
       "5795     ZWE  Zimbabwe  Sub-Saharan Africa  1996       C    wyd         1   \n",
       "5796     ZWE  Zimbabwe  Sub-Saharan Africa  1996       C    wyd         1   \n",
       "5797     ZWE  Zimbabwe  Sub-Saharan Africa  1996       C    wyd         1   \n",
       "5798     ZWE  Zimbabwe  Sub-Saharan Africa  1996       C    wyd         1   \n",
       "5799     ZWE  Zimbabwe  Sub-Saharan Africa  1996       C    wyd         1   \n",
       "\n",
       "      bin_year  group       pop   RRinc  RRmean  cons_2005ppp_pc  \\\n",
       "0         1993      1  1.137175   174.0     806              NaN   \n",
       "1         1993      2  1.137175   287.0     806              NaN   \n",
       "2         1993      3  1.137175   373.0     806              NaN   \n",
       "3         1993      4  1.137175   450.0     806              NaN   \n",
       "4         1993      5  1.137175   538.0     806              NaN   \n",
       "...        ...    ...       ...     ...     ...              ...   \n",
       "5795      1998      6  1.226174   381.0     552       549.659005   \n",
       "5796      1998      7  1.226174   463.0     552       549.659005   \n",
       "5797      1998      8  1.226174   597.0     552       549.659005   \n",
       "5798      1998      9  1.226174   837.0     552       549.659005   \n",
       "5799      1998     10  1.226174  2180.0     552       549.659005   \n",
       "\n",
       "      gdp_2005ppp_pc     totpop  \n",
       "0        2090.259277  11.371750  \n",
       "1        2090.259277  11.371750  \n",
       "2        2090.259277  11.371750  \n",
       "3        2090.259277  11.371750  \n",
       "4        2090.259277  11.371750  \n",
       "...              ...        ...  \n",
       "5795      677.041626  12.261742  \n",
       "5796      677.041626  12.261742  \n",
       "5797      677.041626  12.261742  \n",
       "5798      677.041626  12.261742  \n",
       "5799      677.041626  12.261742  \n",
       "\n",
       "[5800 rows x 15 columns]"
      ]
     },
     "execution_count": 4,
     "metadata": {},
     "output_type": "execute_result"
    }
   ],
   "source": [
    "lmwpid"
   ]
  },
  {
   "cell_type": "markdown",
   "metadata": {},
   "source": [
    "The fields are described in detail by this [metafile description](http://pubdocs.worldbank.org/pubdocs/publicdoc/2015/10/895211444154092188/Description-Lakner-Milanovic-database-2.pdf). Here are the important fields for this assignment.\n",
    "\n",
    "* **RRinc** is a measure of the average annual income of an individual in this country in this income decile group. The units are 2005 PPP which corresponds approximately to US dollars in the year 2005.\n",
    "\n",
    "* **bin_year** is the year dimension (1988, 1993, 1998, 2003, 2008) of the measurements.\n",
    "\n",
    "* **group** provides the income decile group of the measurement, from 1 to 10, where 1 means RRinc measures the average annual income of someone in the bottom 10% of earners in this country that year, and 10 means the measure was for the average income of the top 10% of that country that year.\n",
    "\n",
    "* **pop** is a measure of the population of the people in a country's income decile group for that year, in units of one million (so e.g. a value of 0.1 corresponds to 100,000 people). Since this is the population of a decile group, it will be 10% of the population of the country (which is reported in the totpop field).\n",
    "\n",
    "* **country** is the name of the country the measurement was taken in. (Don't aggregate across this dimension if filtering mysample = 1)\n",
    "\n",
    "* **mysample** separates high-population countries into regions. Filter on this, selecting either 0 or 1 (but not both). If mysample is 0 then the measure is reported for each country as a whole and you can aggregate across the \"country\" field. If mysample is 1 then the highly populated countries of China, India and Indonesia are separated into rural and urban subsets. Both of these subsets will have the same name in the country field, but their country codes will be different. For example, if mysample is 1, then China's rural data is reported under country code CHN-R and its urban data is reported under country code CHN-U, but both share the same country name \"China.\"\n",
    "\n",
    "* **contcod** is a three-letter country code, plus differentiation between rural and urban if mysample = 1. Safest to aggregate over contcod instead of country."
   ]
  },
  {
   "cell_type": "code",
   "execution_count": 5,
   "metadata": {},
   "outputs": [
    {
     "data": {
      "text/html": [
       "<div>\n",
       "<style scoped>\n",
       "    .dataframe tbody tr th:only-of-type {\n",
       "        vertical-align: middle;\n",
       "    }\n",
       "\n",
       "    .dataframe tbody tr th {\n",
       "        vertical-align: top;\n",
       "    }\n",
       "\n",
       "    .dataframe thead th {\n",
       "        text-align: right;\n",
       "    }\n",
       "</style>\n",
       "<table border=\"1\" class=\"dataframe\">\n",
       "  <thead>\n",
       "    <tr style=\"text-align: right;\">\n",
       "      <th></th>\n",
       "      <th>contcod</th>\n",
       "      <th>country</th>\n",
       "      <th>region</th>\n",
       "      <th>year</th>\n",
       "      <th>inc_con</th>\n",
       "      <th>source</th>\n",
       "      <th>mysample</th>\n",
       "      <th>bin_year</th>\n",
       "      <th>group</th>\n",
       "      <th>pop</th>\n",
       "      <th>RRinc</th>\n",
       "      <th>RRmean</th>\n",
       "      <th>cons_2005ppp_pc</th>\n",
       "      <th>gdp_2005ppp_pc</th>\n",
       "      <th>totpop</th>\n",
       "    </tr>\n",
       "  </thead>\n",
       "  <tbody>\n",
       "    <tr>\n",
       "      <th>870</th>\n",
       "      <td>CHN</td>\n",
       "      <td>China</td>\n",
       "      <td>China</td>\n",
       "      <td>1987</td>\n",
       "      <td>I</td>\n",
       "      <td>povcal</td>\n",
       "      <td>0</td>\n",
       "      <td>1988</td>\n",
       "      <td>1</td>\n",
       "      <td>110.162995</td>\n",
       "      <td>161.0</td>\n",
       "      <td>493</td>\n",
       "      <td>452.401917</td>\n",
       "      <td>958.370056</td>\n",
       "      <td>1101.629952</td>\n",
       "    </tr>\n",
       "    <tr>\n",
       "      <th>871</th>\n",
       "      <td>CHN</td>\n",
       "      <td>China</td>\n",
       "      <td>China</td>\n",
       "      <td>1987</td>\n",
       "      <td>I</td>\n",
       "      <td>povcal</td>\n",
       "      <td>0</td>\n",
       "      <td>1988</td>\n",
       "      <td>2</td>\n",
       "      <td>110.162995</td>\n",
       "      <td>233.0</td>\n",
       "      <td>493</td>\n",
       "      <td>452.401917</td>\n",
       "      <td>958.370056</td>\n",
       "      <td>1101.629952</td>\n",
       "    </tr>\n",
       "    <tr>\n",
       "      <th>872</th>\n",
       "      <td>CHN</td>\n",
       "      <td>China</td>\n",
       "      <td>China</td>\n",
       "      <td>1987</td>\n",
       "      <td>I</td>\n",
       "      <td>povcal</td>\n",
       "      <td>0</td>\n",
       "      <td>1988</td>\n",
       "      <td>3</td>\n",
       "      <td>110.162995</td>\n",
       "      <td>294.0</td>\n",
       "      <td>493</td>\n",
       "      <td>452.401917</td>\n",
       "      <td>958.370056</td>\n",
       "      <td>1101.629952</td>\n",
       "    </tr>\n",
       "    <tr>\n",
       "      <th>873</th>\n",
       "      <td>CHN</td>\n",
       "      <td>China</td>\n",
       "      <td>China</td>\n",
       "      <td>1987</td>\n",
       "      <td>I</td>\n",
       "      <td>povcal</td>\n",
       "      <td>0</td>\n",
       "      <td>1988</td>\n",
       "      <td>4</td>\n",
       "      <td>110.162995</td>\n",
       "      <td>350.0</td>\n",
       "      <td>493</td>\n",
       "      <td>452.401917</td>\n",
       "      <td>958.370056</td>\n",
       "      <td>1101.629952</td>\n",
       "    </tr>\n",
       "    <tr>\n",
       "      <th>874</th>\n",
       "      <td>CHN</td>\n",
       "      <td>China</td>\n",
       "      <td>China</td>\n",
       "      <td>1987</td>\n",
       "      <td>I</td>\n",
       "      <td>povcal</td>\n",
       "      <td>0</td>\n",
       "      <td>1988</td>\n",
       "      <td>5</td>\n",
       "      <td>110.162995</td>\n",
       "      <td>405.0</td>\n",
       "      <td>493</td>\n",
       "      <td>452.401917</td>\n",
       "      <td>958.370056</td>\n",
       "      <td>1101.629952</td>\n",
       "    </tr>\n",
       "    <tr>\n",
       "      <th>875</th>\n",
       "      <td>CHN</td>\n",
       "      <td>China</td>\n",
       "      <td>China</td>\n",
       "      <td>1987</td>\n",
       "      <td>I</td>\n",
       "      <td>povcal</td>\n",
       "      <td>0</td>\n",
       "      <td>1988</td>\n",
       "      <td>6</td>\n",
       "      <td>110.162995</td>\n",
       "      <td>464.0</td>\n",
       "      <td>493</td>\n",
       "      <td>452.401917</td>\n",
       "      <td>958.370056</td>\n",
       "      <td>1101.629952</td>\n",
       "    </tr>\n",
       "    <tr>\n",
       "      <th>876</th>\n",
       "      <td>CHN</td>\n",
       "      <td>China</td>\n",
       "      <td>China</td>\n",
       "      <td>1987</td>\n",
       "      <td>I</td>\n",
       "      <td>povcal</td>\n",
       "      <td>0</td>\n",
       "      <td>1988</td>\n",
       "      <td>7</td>\n",
       "      <td>110.162995</td>\n",
       "      <td>532.0</td>\n",
       "      <td>493</td>\n",
       "      <td>452.401917</td>\n",
       "      <td>958.370056</td>\n",
       "      <td>1101.629952</td>\n",
       "    </tr>\n",
       "    <tr>\n",
       "      <th>877</th>\n",
       "      <td>CHN</td>\n",
       "      <td>China</td>\n",
       "      <td>China</td>\n",
       "      <td>1987</td>\n",
       "      <td>I</td>\n",
       "      <td>povcal</td>\n",
       "      <td>0</td>\n",
       "      <td>1988</td>\n",
       "      <td>8</td>\n",
       "      <td>110.162995</td>\n",
       "      <td>620.0</td>\n",
       "      <td>493</td>\n",
       "      <td>452.401917</td>\n",
       "      <td>958.370056</td>\n",
       "      <td>1101.629952</td>\n",
       "    </tr>\n",
       "    <tr>\n",
       "      <th>878</th>\n",
       "      <td>CHN</td>\n",
       "      <td>China</td>\n",
       "      <td>China</td>\n",
       "      <td>1987</td>\n",
       "      <td>I</td>\n",
       "      <td>povcal</td>\n",
       "      <td>0</td>\n",
       "      <td>1988</td>\n",
       "      <td>9</td>\n",
       "      <td>110.162995</td>\n",
       "      <td>756.0</td>\n",
       "      <td>493</td>\n",
       "      <td>452.401917</td>\n",
       "      <td>958.370056</td>\n",
       "      <td>1101.629952</td>\n",
       "    </tr>\n",
       "    <tr>\n",
       "      <th>879</th>\n",
       "      <td>CHN</td>\n",
       "      <td>China</td>\n",
       "      <td>China</td>\n",
       "      <td>1987</td>\n",
       "      <td>I</td>\n",
       "      <td>povcal</td>\n",
       "      <td>0</td>\n",
       "      <td>1988</td>\n",
       "      <td>10</td>\n",
       "      <td>110.162995</td>\n",
       "      <td>1113.0</td>\n",
       "      <td>493</td>\n",
       "      <td>452.401917</td>\n",
       "      <td>958.370056</td>\n",
       "      <td>1101.629952</td>\n",
       "    </tr>\n",
       "    <tr>\n",
       "      <th>920</th>\n",
       "      <td>CHN-R</td>\n",
       "      <td>China</td>\n",
       "      <td>China</td>\n",
       "      <td>1990</td>\n",
       "      <td>C</td>\n",
       "      <td>povcal</td>\n",
       "      <td>1</td>\n",
       "      <td>1988</td>\n",
       "      <td>1</td>\n",
       "      <td>81.917210</td>\n",
       "      <td>157.0</td>\n",
       "      <td>407</td>\n",
       "      <td>NaN</td>\n",
       "      <td>NaN</td>\n",
       "      <td>819.172096</td>\n",
       "    </tr>\n",
       "    <tr>\n",
       "      <th>921</th>\n",
       "      <td>CHN-R</td>\n",
       "      <td>China</td>\n",
       "      <td>China</td>\n",
       "      <td>1990</td>\n",
       "      <td>C</td>\n",
       "      <td>povcal</td>\n",
       "      <td>1</td>\n",
       "      <td>1988</td>\n",
       "      <td>2</td>\n",
       "      <td>81.917210</td>\n",
       "      <td>207.0</td>\n",
       "      <td>407</td>\n",
       "      <td>NaN</td>\n",
       "      <td>NaN</td>\n",
       "      <td>819.172096</td>\n",
       "    </tr>\n",
       "    <tr>\n",
       "      <th>922</th>\n",
       "      <td>CHN-R</td>\n",
       "      <td>China</td>\n",
       "      <td>China</td>\n",
       "      <td>1990</td>\n",
       "      <td>C</td>\n",
       "      <td>povcal</td>\n",
       "      <td>1</td>\n",
       "      <td>1988</td>\n",
       "      <td>3</td>\n",
       "      <td>81.917210</td>\n",
       "      <td>248.0</td>\n",
       "      <td>407</td>\n",
       "      <td>NaN</td>\n",
       "      <td>NaN</td>\n",
       "      <td>819.172096</td>\n",
       "    </tr>\n",
       "    <tr>\n",
       "      <th>923</th>\n",
       "      <td>CHN-R</td>\n",
       "      <td>China</td>\n",
       "      <td>China</td>\n",
       "      <td>1990</td>\n",
       "      <td>C</td>\n",
       "      <td>povcal</td>\n",
       "      <td>1</td>\n",
       "      <td>1988</td>\n",
       "      <td>4</td>\n",
       "      <td>81.917210</td>\n",
       "      <td>285.0</td>\n",
       "      <td>407</td>\n",
       "      <td>NaN</td>\n",
       "      <td>NaN</td>\n",
       "      <td>819.172096</td>\n",
       "    </tr>\n",
       "    <tr>\n",
       "      <th>924</th>\n",
       "      <td>CHN-R</td>\n",
       "      <td>China</td>\n",
       "      <td>China</td>\n",
       "      <td>1990</td>\n",
       "      <td>C</td>\n",
       "      <td>povcal</td>\n",
       "      <td>1</td>\n",
       "      <td>1988</td>\n",
       "      <td>5</td>\n",
       "      <td>81.917210</td>\n",
       "      <td>321.0</td>\n",
       "      <td>407</td>\n",
       "      <td>NaN</td>\n",
       "      <td>NaN</td>\n",
       "      <td>819.172096</td>\n",
       "    </tr>\n",
       "    <tr>\n",
       "      <th>925</th>\n",
       "      <td>CHN-R</td>\n",
       "      <td>China</td>\n",
       "      <td>China</td>\n",
       "      <td>1990</td>\n",
       "      <td>C</td>\n",
       "      <td>povcal</td>\n",
       "      <td>1</td>\n",
       "      <td>1988</td>\n",
       "      <td>6</td>\n",
       "      <td>81.917210</td>\n",
       "      <td>360.0</td>\n",
       "      <td>407</td>\n",
       "      <td>NaN</td>\n",
       "      <td>NaN</td>\n",
       "      <td>819.172096</td>\n",
       "    </tr>\n",
       "    <tr>\n",
       "      <th>926</th>\n",
       "      <td>CHN-R</td>\n",
       "      <td>China</td>\n",
       "      <td>China</td>\n",
       "      <td>1990</td>\n",
       "      <td>C</td>\n",
       "      <td>povcal</td>\n",
       "      <td>1</td>\n",
       "      <td>1988</td>\n",
       "      <td>7</td>\n",
       "      <td>81.917210</td>\n",
       "      <td>404.0</td>\n",
       "      <td>407</td>\n",
       "      <td>NaN</td>\n",
       "      <td>NaN</td>\n",
       "      <td>819.172096</td>\n",
       "    </tr>\n",
       "    <tr>\n",
       "      <th>927</th>\n",
       "      <td>CHN-R</td>\n",
       "      <td>China</td>\n",
       "      <td>China</td>\n",
       "      <td>1990</td>\n",
       "      <td>C</td>\n",
       "      <td>povcal</td>\n",
       "      <td>1</td>\n",
       "      <td>1988</td>\n",
       "      <td>8</td>\n",
       "      <td>81.917210</td>\n",
       "      <td>464.0</td>\n",
       "      <td>407</td>\n",
       "      <td>NaN</td>\n",
       "      <td>NaN</td>\n",
       "      <td>819.172096</td>\n",
       "    </tr>\n",
       "    <tr>\n",
       "      <th>928</th>\n",
       "      <td>CHN-R</td>\n",
       "      <td>China</td>\n",
       "      <td>China</td>\n",
       "      <td>1990</td>\n",
       "      <td>C</td>\n",
       "      <td>povcal</td>\n",
       "      <td>1</td>\n",
       "      <td>1988</td>\n",
       "      <td>9</td>\n",
       "      <td>81.917210</td>\n",
       "      <td>562.0</td>\n",
       "      <td>407</td>\n",
       "      <td>NaN</td>\n",
       "      <td>NaN</td>\n",
       "      <td>819.172096</td>\n",
       "    </tr>\n",
       "    <tr>\n",
       "      <th>929</th>\n",
       "      <td>CHN-R</td>\n",
       "      <td>China</td>\n",
       "      <td>China</td>\n",
       "      <td>1990</td>\n",
       "      <td>C</td>\n",
       "      <td>povcal</td>\n",
       "      <td>1</td>\n",
       "      <td>1988</td>\n",
       "      <td>10</td>\n",
       "      <td>81.917210</td>\n",
       "      <td>1060.0</td>\n",
       "      <td>407</td>\n",
       "      <td>NaN</td>\n",
       "      <td>NaN</td>\n",
       "      <td>819.172096</td>\n",
       "    </tr>\n",
       "    <tr>\n",
       "      <th>970</th>\n",
       "      <td>CHN-U</td>\n",
       "      <td>China</td>\n",
       "      <td>China</td>\n",
       "      <td>1990</td>\n",
       "      <td>C</td>\n",
       "      <td>povcal</td>\n",
       "      <td>1</td>\n",
       "      <td>1988</td>\n",
       "      <td>1</td>\n",
       "      <td>28.245792</td>\n",
       "      <td>291.0</td>\n",
       "      <td>709</td>\n",
       "      <td>NaN</td>\n",
       "      <td>NaN</td>\n",
       "      <td>282.457920</td>\n",
       "    </tr>\n",
       "    <tr>\n",
       "      <th>971</th>\n",
       "      <td>CHN-U</td>\n",
       "      <td>China</td>\n",
       "      <td>China</td>\n",
       "      <td>1990</td>\n",
       "      <td>C</td>\n",
       "      <td>povcal</td>\n",
       "      <td>1</td>\n",
       "      <td>1988</td>\n",
       "      <td>2</td>\n",
       "      <td>28.245792</td>\n",
       "      <td>392.0</td>\n",
       "      <td>709</td>\n",
       "      <td>NaN</td>\n",
       "      <td>NaN</td>\n",
       "      <td>282.457920</td>\n",
       "    </tr>\n",
       "    <tr>\n",
       "      <th>972</th>\n",
       "      <td>CHN-U</td>\n",
       "      <td>China</td>\n",
       "      <td>China</td>\n",
       "      <td>1990</td>\n",
       "      <td>C</td>\n",
       "      <td>povcal</td>\n",
       "      <td>1</td>\n",
       "      <td>1988</td>\n",
       "      <td>3</td>\n",
       "      <td>28.245792</td>\n",
       "      <td>470.0</td>\n",
       "      <td>709</td>\n",
       "      <td>NaN</td>\n",
       "      <td>NaN</td>\n",
       "      <td>282.457920</td>\n",
       "    </tr>\n",
       "    <tr>\n",
       "      <th>973</th>\n",
       "      <td>CHN-U</td>\n",
       "      <td>China</td>\n",
       "      <td>China</td>\n",
       "      <td>1990</td>\n",
       "      <td>C</td>\n",
       "      <td>povcal</td>\n",
       "      <td>1</td>\n",
       "      <td>1988</td>\n",
       "      <td>4</td>\n",
       "      <td>28.245792</td>\n",
       "      <td>539.0</td>\n",
       "      <td>709</td>\n",
       "      <td>NaN</td>\n",
       "      <td>NaN</td>\n",
       "      <td>282.457920</td>\n",
       "    </tr>\n",
       "    <tr>\n",
       "      <th>974</th>\n",
       "      <td>CHN-U</td>\n",
       "      <td>China</td>\n",
       "      <td>China</td>\n",
       "      <td>1990</td>\n",
       "      <td>C</td>\n",
       "      <td>povcal</td>\n",
       "      <td>1</td>\n",
       "      <td>1988</td>\n",
       "      <td>5</td>\n",
       "      <td>28.245792</td>\n",
       "      <td>605.0</td>\n",
       "      <td>709</td>\n",
       "      <td>NaN</td>\n",
       "      <td>NaN</td>\n",
       "      <td>282.457920</td>\n",
       "    </tr>\n",
       "    <tr>\n",
       "      <th>975</th>\n",
       "      <td>CHN-U</td>\n",
       "      <td>China</td>\n",
       "      <td>China</td>\n",
       "      <td>1990</td>\n",
       "      <td>C</td>\n",
       "      <td>povcal</td>\n",
       "      <td>1</td>\n",
       "      <td>1988</td>\n",
       "      <td>6</td>\n",
       "      <td>28.245792</td>\n",
       "      <td>674.0</td>\n",
       "      <td>709</td>\n",
       "      <td>NaN</td>\n",
       "      <td>NaN</td>\n",
       "      <td>282.457920</td>\n",
       "    </tr>\n",
       "    <tr>\n",
       "      <th>976</th>\n",
       "      <td>CHN-U</td>\n",
       "      <td>China</td>\n",
       "      <td>China</td>\n",
       "      <td>1990</td>\n",
       "      <td>C</td>\n",
       "      <td>povcal</td>\n",
       "      <td>1</td>\n",
       "      <td>1988</td>\n",
       "      <td>7</td>\n",
       "      <td>28.245792</td>\n",
       "      <td>753.0</td>\n",
       "      <td>709</td>\n",
       "      <td>NaN</td>\n",
       "      <td>NaN</td>\n",
       "      <td>282.457920</td>\n",
       "    </tr>\n",
       "    <tr>\n",
       "      <th>977</th>\n",
       "      <td>CHN-U</td>\n",
       "      <td>China</td>\n",
       "      <td>China</td>\n",
       "      <td>1990</td>\n",
       "      <td>C</td>\n",
       "      <td>povcal</td>\n",
       "      <td>1</td>\n",
       "      <td>1988</td>\n",
       "      <td>8</td>\n",
       "      <td>28.245792</td>\n",
       "      <td>855.0</td>\n",
       "      <td>709</td>\n",
       "      <td>NaN</td>\n",
       "      <td>NaN</td>\n",
       "      <td>282.457920</td>\n",
       "    </tr>\n",
       "    <tr>\n",
       "      <th>978</th>\n",
       "      <td>CHN-U</td>\n",
       "      <td>China</td>\n",
       "      <td>China</td>\n",
       "      <td>1990</td>\n",
       "      <td>C</td>\n",
       "      <td>povcal</td>\n",
       "      <td>1</td>\n",
       "      <td>1988</td>\n",
       "      <td>9</td>\n",
       "      <td>28.245792</td>\n",
       "      <td>1015.0</td>\n",
       "      <td>709</td>\n",
       "      <td>NaN</td>\n",
       "      <td>NaN</td>\n",
       "      <td>282.457920</td>\n",
       "    </tr>\n",
       "    <tr>\n",
       "      <th>979</th>\n",
       "      <td>CHN-U</td>\n",
       "      <td>China</td>\n",
       "      <td>China</td>\n",
       "      <td>1990</td>\n",
       "      <td>C</td>\n",
       "      <td>povcal</td>\n",
       "      <td>1</td>\n",
       "      <td>1988</td>\n",
       "      <td>10</td>\n",
       "      <td>28.245792</td>\n",
       "      <td>1493.0</td>\n",
       "      <td>709</td>\n",
       "      <td>NaN</td>\n",
       "      <td>NaN</td>\n",
       "      <td>282.457920</td>\n",
       "    </tr>\n",
       "  </tbody>\n",
       "</table>\n",
       "</div>"
      ],
      "text/plain": [
       "    contcod country region  year inc_con  source  mysample  bin_year  group  \\\n",
       "870     CHN   China  China  1987       I  povcal         0      1988      1   \n",
       "871     CHN   China  China  1987       I  povcal         0      1988      2   \n",
       "872     CHN   China  China  1987       I  povcal         0      1988      3   \n",
       "873     CHN   China  China  1987       I  povcal         0      1988      4   \n",
       "874     CHN   China  China  1987       I  povcal         0      1988      5   \n",
       "875     CHN   China  China  1987       I  povcal         0      1988      6   \n",
       "876     CHN   China  China  1987       I  povcal         0      1988      7   \n",
       "877     CHN   China  China  1987       I  povcal         0      1988      8   \n",
       "878     CHN   China  China  1987       I  povcal         0      1988      9   \n",
       "879     CHN   China  China  1987       I  povcal         0      1988     10   \n",
       "920   CHN-R   China  China  1990       C  povcal         1      1988      1   \n",
       "921   CHN-R   China  China  1990       C  povcal         1      1988      2   \n",
       "922   CHN-R   China  China  1990       C  povcal         1      1988      3   \n",
       "923   CHN-R   China  China  1990       C  povcal         1      1988      4   \n",
       "924   CHN-R   China  China  1990       C  povcal         1      1988      5   \n",
       "925   CHN-R   China  China  1990       C  povcal         1      1988      6   \n",
       "926   CHN-R   China  China  1990       C  povcal         1      1988      7   \n",
       "927   CHN-R   China  China  1990       C  povcal         1      1988      8   \n",
       "928   CHN-R   China  China  1990       C  povcal         1      1988      9   \n",
       "929   CHN-R   China  China  1990       C  povcal         1      1988     10   \n",
       "970   CHN-U   China  China  1990       C  povcal         1      1988      1   \n",
       "971   CHN-U   China  China  1990       C  povcal         1      1988      2   \n",
       "972   CHN-U   China  China  1990       C  povcal         1      1988      3   \n",
       "973   CHN-U   China  China  1990       C  povcal         1      1988      4   \n",
       "974   CHN-U   China  China  1990       C  povcal         1      1988      5   \n",
       "975   CHN-U   China  China  1990       C  povcal         1      1988      6   \n",
       "976   CHN-U   China  China  1990       C  povcal         1      1988      7   \n",
       "977   CHN-U   China  China  1990       C  povcal         1      1988      8   \n",
       "978   CHN-U   China  China  1990       C  povcal         1      1988      9   \n",
       "979   CHN-U   China  China  1990       C  povcal         1      1988     10   \n",
       "\n",
       "            pop   RRinc  RRmean  cons_2005ppp_pc  gdp_2005ppp_pc       totpop  \n",
       "870  110.162995   161.0     493       452.401917      958.370056  1101.629952  \n",
       "871  110.162995   233.0     493       452.401917      958.370056  1101.629952  \n",
       "872  110.162995   294.0     493       452.401917      958.370056  1101.629952  \n",
       "873  110.162995   350.0     493       452.401917      958.370056  1101.629952  \n",
       "874  110.162995   405.0     493       452.401917      958.370056  1101.629952  \n",
       "875  110.162995   464.0     493       452.401917      958.370056  1101.629952  \n",
       "876  110.162995   532.0     493       452.401917      958.370056  1101.629952  \n",
       "877  110.162995   620.0     493       452.401917      958.370056  1101.629952  \n",
       "878  110.162995   756.0     493       452.401917      958.370056  1101.629952  \n",
       "879  110.162995  1113.0     493       452.401917      958.370056  1101.629952  \n",
       "920   81.917210   157.0     407              NaN             NaN   819.172096  \n",
       "921   81.917210   207.0     407              NaN             NaN   819.172096  \n",
       "922   81.917210   248.0     407              NaN             NaN   819.172096  \n",
       "923   81.917210   285.0     407              NaN             NaN   819.172096  \n",
       "924   81.917210   321.0     407              NaN             NaN   819.172096  \n",
       "925   81.917210   360.0     407              NaN             NaN   819.172096  \n",
       "926   81.917210   404.0     407              NaN             NaN   819.172096  \n",
       "927   81.917210   464.0     407              NaN             NaN   819.172096  \n",
       "928   81.917210   562.0     407              NaN             NaN   819.172096  \n",
       "929   81.917210  1060.0     407              NaN             NaN   819.172096  \n",
       "970   28.245792   291.0     709              NaN             NaN   282.457920  \n",
       "971   28.245792   392.0     709              NaN             NaN   282.457920  \n",
       "972   28.245792   470.0     709              NaN             NaN   282.457920  \n",
       "973   28.245792   539.0     709              NaN             NaN   282.457920  \n",
       "974   28.245792   605.0     709              NaN             NaN   282.457920  \n",
       "975   28.245792   674.0     709              NaN             NaN   282.457920  \n",
       "976   28.245792   753.0     709              NaN             NaN   282.457920  \n",
       "977   28.245792   855.0     709              NaN             NaN   282.457920  \n",
       "978   28.245792  1015.0     709              NaN             NaN   282.457920  \n",
       "979   28.245792  1493.0     709              NaN             NaN   282.457920  "
      ]
     },
     "execution_count": 5,
     "metadata": {},
     "output_type": "execute_result"
    }
   ],
   "source": [
    "lmwpid[(lmwpid['country'] == 'China') & (lmwpid['bin_year'] == 1988)]"
   ]
  },
  {
   "cell_type": "markdown",
   "metadata": {},
   "source": [
    "## Step 1 (50 Points)\n",
    "\n",
    "First, create a dataframe called lm1988 that is a table of only the 1988 data with mysample = 1. The only columns we will need are RRinc and pop, and these will respresent the measurement for each income decile group and country code in the 1988 mysample=1 data.\n",
    "\n",
    "See this link below for instructions on how to query specific rows in a dataframe, including how to query on multiple conditions.\n",
    "\n",
    "https://pandas.pydata.org/docs/getting_started/intro_tutorials/03_subset_data.html#how-do-i-filter-specific-rows-from-a-dataframe"
   ]
  },
  {
   "cell_type": "code",
   "execution_count": 6,
   "metadata": {
    "deletable": false,
    "nbgrader": {
     "cell_type": "code",
     "checksum": "4925005dd1bd3a38758aa61c20127192",
     "grade": false,
     "grade_id": "cell-903eda81276287b5",
     "locked": false,
     "schema_version": 3,
     "solution": true,
     "task": false
    }
   },
   "outputs": [],
   "source": [
    "'''Enter your solution below the \"your code here\" comment,'''\n",
    "# your code here\n",
    "\n",
    "lm1988 = lmwpid[(lmwpid['bin_year'] == 1988) & (lmwpid['mysample'] == 1)][['pop','RRinc']]\n"
   ]
  },
  {
   "attachments": {
    "RRinc%20ramp.png": {
     "image/png": "[encoded data removed]"
    }
   },
   "cell_type": "markdown",
   "metadata": {},
   "source": [
    "Your lm1988 table of 750 RRinc values in non-decreasing order should look like this image below.\n",
    "\n",
    "![RRinc%20ramp.png](attachment:RRinc%20ramp.png)\n",
    "\n",
    "The code below uses matplotlib to create a line* chart showing the increasing income of the deciles across all of the counties. The vertical axis is the RRinc and the horizontal axis is the row number of the RRinc data in the database. Since matplotlib will connect datapoints with line segments in database  row order we have to first sort the database by RRinc, and then reset the database row indices to the new order.\n",
    "\n",
    "(\\*) *This graph is a bit misleading as a line plot because the horizontal axis should not be evenly spaced, as the deciles represent different population counts from country to country. For such cases a bar graph should be used to more properly communicate the horizontal axis represents categories and not uniformly spaced quantitative values, but because there are so many data points the individual bars would not be resolved very well, so a line graph can be used in such cases.*\n",
    "\n",
    "Even though the horizontal axis is not a linear representation of population, this line graph does show us that higher incomes are concentrated across a small number of population deciles in a small number of countries."
   ]
  },
  {
   "cell_type": "code",
   "execution_count": 7,
   "metadata": {},
   "outputs": [
    {
     "data": {
      "text/plain": [
       "<matplotlib.axes._subplots.AxesSubplot at 0x71ba9a250350>"
      ]
     },
     "execution_count": 7,
     "metadata": {},
     "output_type": "execute_result"
    },
    {
     "data": {
      "image/png": "[encoded data removed]",
      "text/plain": [
       "<Figure size 432x288 with 1 Axes>"
      ]
     },
     "metadata": {
      "needs_background": "light"
     },
     "output_type": "display_data"
    }
   ],
   "source": [
    "lm1988.sort_values('RRinc').reset_index()['RRinc'].plot()"
   ]
  },
  {
   "cell_type": "code",
   "execution_count": 8,
   "metadata": {
    "deletable": false,
    "editable": false,
    "nbgrader": {
     "cell_type": "code",
     "checksum": "1e05ac8426c6140fb52cfafdc8d78281",
     "grade": true,
     "grade_id": "cell-2ca72c51ad89ab6d",
     "locked": true,
     "points": 5,
     "schema_version": 3,
     "solution": false,
     "task": false
    }
   },
   "outputs": [],
   "source": [
    "'''Your result should have 750 rows, otherwise you will get the error in the string\n",
    "following the assert(), because that string is only evaluated if the assert() fails'''\n",
    "\n",
    "assert(lm1988.shape[0] == 750),(\n",
    "    \"Your lm1988 dataframe has {} rows instead of the expected 750 rows.\".format(lm1988.shape[0])\n",
    ")"
   ]
  },
  {
   "cell_type": "code",
   "execution_count": 9,
   "metadata": {
    "deletable": false,
    "editable": false,
    "nbgrader": {
     "cell_type": "code",
     "checksum": "db04c47d40ac55b0f0c258720daa2fef",
     "grade": true,
     "grade_id": "cell-89da6b21540ea8c0",
     "locked": true,
     "points": 5,
     "schema_version": 3,
     "solution": false,
     "task": false
    }
   },
   "outputs": [],
   "source": [
    "'''Your result should have a 'pop' field'''\n",
    "assert('pop' in lm1988.columns),(\n",
    "    \"Your lm1988 dataframe is missing the field: pop.\"\n",
    ")"
   ]
  },
  {
   "cell_type": "code",
   "execution_count": 10,
   "metadata": {
    "deletable": false,
    "editable": false,
    "nbgrader": {
     "cell_type": "code",
     "checksum": "22fab9bb89bc268c01c1a8247d618ff0",
     "grade": true,
     "grade_id": "cell-9594f5996ad00da9",
     "locked": true,
     "points": 5,
     "schema_version": 3,
     "solution": false,
     "task": false
    }
   },
   "outputs": [],
   "source": [
    "'''Your result should have an 'RRinc' field'''\n",
    "assert('RRinc' in lm1988.columns),(\n",
    "    \"Your lm1988 dataframe is missing the field: RRinc.\"\n",
    ")"
   ]
  },
  {
   "cell_type": "code",
   "execution_count": 11,
   "metadata": {
    "deletable": false,
    "editable": false,
    "nbgrader": {
     "cell_type": "code",
     "checksum": "8b28fa927460424635130b756d39ea2c",
     "grade": true,
     "grade_id": "cell-636730844ddee81b",
     "locked": true,
     "points": 5,
     "schema_version": 3,
     "solution": false,
     "task": false
    }
   },
   "outputs": [],
   "source": [
    "'''Your lm1988 has China's mysample=1 data'''\n",
    "assert(lm1988[(lm1988['RRinc'] == 157)].shape[0] == 1),(\n",
    "    \"lm1988 is missing data with bin_year=1988 and mysample=1 from lmwpid.\"\n",
    ")"
   ]
  },
  {
   "cell_type": "code",
   "execution_count": 12,
   "metadata": {
    "deletable": false,
    "editable": false,
    "nbgrader": {
     "cell_type": "code",
     "checksum": "9134c97660d838990bcde954a2a2b510",
     "grade": true,
     "grade_id": "cell-defa5ae614bcfd10",
     "locked": true,
     "points": 5,
     "schema_version": 3,
     "solution": false,
     "task": false
    }
   },
   "outputs": [],
   "source": [
    "'''You lm1988 should not have an entry for this China mysample = 0 data'''\n",
    "assert(lm1988[(lm1988['RRinc'] == 161)].shape[0] == 0),(\n",
    "    \"lm1988 includes data other than mysample=1 from lmwpid.\"\n",
    ")"
   ]
  },
  {
   "cell_type": "code",
   "execution_count": 13,
   "metadata": {
    "deletable": false,
    "editable": false,
    "nbgrader": {
     "cell_type": "code",
     "checksum": "ab966f126a12994231c2d94f4c25e16b",
     "grade": true,
     "grade_id": "cell-1622448d41dc3495",
     "locked": true,
     "points": 5,
     "schema_version": 3,
     "solution": false,
     "task": false
    }
   },
   "outputs": [],
   "source": [
    "'''and should also not have an entry for this China 1998 data'''\n",
    "assert(lm1988[(lm1988['RRinc'] == 1665)].shape[0] == 0),(\n",
    "    \"lm1988 includes data other than bin_year=1988 from lmwpid.\"\n",
    ")"
   ]
  },
  {
   "cell_type": "code",
   "execution_count": 14,
   "metadata": {
    "deletable": false,
    "editable": false,
    "nbgrader": {
     "cell_type": "code",
     "checksum": "440b9a5b544f28f211c1b25bde0e8358",
     "grade": true,
     "grade_id": "cell-06453db0c4c41be8",
     "locked": true,
     "points": 20,
     "schema_version": 3,
     "solution": false,
     "task": false
    }
   },
   "outputs": [
    {
     "data": {
      "text/plain": [
       "\"A 'hidden test' in this cell will check your entire lm1988 dataframe\""
      ]
     },
     "execution_count": 14,
     "metadata": {},
     "output_type": "execute_result"
    }
   ],
   "source": [
    "'''A 'hidden test' in this cell will check your entire lm1988 dataframe'''"
   ]
  },
  {
   "cell_type": "markdown",
   "metadata": {},
   "source": [
    "## Step 2 (25 Points)\n",
    "\n",
    "Sort the lm1988 dataframe in order of increasing RRinc, and create a new calculated field called runningpop that is the cumulative total of the pop field for the current row of the table and all rows before it.\n",
    "\n",
    "Two Pandas methods that are helpful with this are [sort_values()](https://pandas.pydata.org/docs/reference/api/pandas.DataFrame.sort_values.html) and [cumsum()](https://pandas.pydata.org/docs/reference/api/pandas.DataFrame.cumsum.html). If you already sorted the data by RRinc when visualizing the result in the previous step, then you can skip that part in this step."
   ]
  },
  {
   "cell_type": "code",
   "execution_count": 15,
   "metadata": {
    "deletable": false,
    "nbgrader": {
     "cell_type": "code",
     "checksum": "8e5d92a2b86bffb5b03e4917ee357501",
     "grade": false,
     "grade_id": "cell-30a541e2c152e983",
     "locked": false,
     "schema_version": 3,
     "solution": true,
     "task": false
    }
   },
   "outputs": [
    {
     "name": "stdout",
     "output_type": "stream",
     "text": [
      "           pop    RRinc   runningpop\n",
      "0     0.852521     82.0     0.852521\n",
      "1     1.648237     85.0     2.500758\n",
      "2     0.518956     87.0     3.019714\n",
      "3     0.157990     99.0     3.177704\n",
      "4     0.189233    104.0     3.366937\n",
      "..         ...      ...          ...\n",
      "745   1.653220  28953.0  4109.394817\n",
      "746   0.335000  29393.0  4109.729817\n",
      "747   7.814462  31358.0  4117.544278\n",
      "748   2.689500  34682.0  4120.233778\n",
      "749  24.449901  43279.0  4144.683679\n",
      "\n",
      "[750 rows x 3 columns]\n"
     ]
    }
   ],
   "source": [
    "'''Enter your solution below the \"your code here\" comment'''\n",
    "# your code here\n",
    "\n",
    "lm1988 = lm1988.sort_values(by='RRinc').reset_index(drop=True)\n",
    "lm1988['runningpop'] = lm1988['pop'].cumsum()\n",
    "\n",
    "print(lm1988)"
   ]
  },
  {
   "cell_type": "code",
   "execution_count": 16,
   "metadata": {
    "deletable": false,
    "editable": false,
    "nbgrader": {
     "cell_type": "code",
     "checksum": "a327fae239352978a70f2b929b535b77",
     "grade": true,
     "grade_id": "cell-31d4d1c25c753296",
     "locked": true,
     "points": 5,
     "schema_version": 3,
     "solution": false,
     "task": false
    }
   },
   "outputs": [],
   "source": [
    "'''RRinc should be monotonic (sorted in non-decreasing order)'''\n",
    "assert(lm1988['RRinc'].is_monotonic),(\n",
    "    \"Your lm1988 dataframe is not properly sorted by its RRinc field values.\"\n",
    ")"
   ]
  },
  {
   "cell_type": "code",
   "execution_count": 17,
   "metadata": {
    "deletable": false,
    "editable": false,
    "nbgrader": {
     "cell_type": "code",
     "checksum": "af40e388c6bb576cfcddb3c91a27f100",
     "grade": true,
     "grade_id": "cell-9cad84c9da7082b9",
     "locked": true,
     "points": 5,
     "schema_version": 3,
     "solution": false,
     "task": false
    }
   },
   "outputs": [],
   "source": [
    "'''Your result should have the 'runningpop' fields'''\n",
    "assert('runningpop' in lm1988.columns),(\n",
    "    \"Your lm1988 dataframe does not have a runningpop field.\"\n",
    ")"
   ]
  },
  {
   "cell_type": "code",
   "execution_count": 18,
   "metadata": {
    "deletable": false,
    "editable": false,
    "nbgrader": {
     "cell_type": "code",
     "checksum": "24bc784c4a49257387c36112cb3f2be6",
     "grade": true,
     "grade_id": "cell-441da0e74a55611c",
     "locked": true,
     "points": 5,
     "schema_version": 3,
     "solution": false,
     "task": false
    }
   },
   "outputs": [],
   "source": [
    "'''runningpop should be monotonic (sorted in non-decreasing order)'''\n",
    "assert(lm1988['runningpop'].is_monotonic),(\n",
    "    \"The cumulative sum of population stored in the runningpop field of lm1988 should never decrease, but appears to.\"\n",
    ")"
   ]
  },
  {
   "cell_type": "code",
   "execution_count": 19,
   "metadata": {
    "deletable": false,
    "editable": false,
    "nbgrader": {
     "cell_type": "code",
     "checksum": "830ab2134c4c7bc4aeb85d492972121c",
     "grade": true,
     "grade_id": "cell-65adcd597780f70d",
     "locked": true,
     "points": 5,
     "schema_version": 3,
     "solution": false,
     "task": false
    }
   },
   "outputs": [],
   "source": [
    "'''Each row's runningpop should be the sum of its pop and the running pop of the previous row'''\n",
    "for ref_i in range(0,749):\n",
    "    assert(lm1988.iloc[ref_i]['runningpop'] + lm1988.iloc[ref_i+1]['pop'] == lm1988.iloc[ref_i+1]['runningpop']),(\n",
    "        \"The runningpop at row {} is {} which is not the sum of its pop {} and the runningpop {} of the previous row.\".format(\n",
    "            ref_i+1, lm1988.iloc[ref_i+1]['runningpop'], lm1988.iloc[ref_i+1]['pop'], lm1988.iloc[ref_i]['runningpop']\n",
    "        )\n",
    "    )"
   ]
  },
  {
   "attachments": {
    "runningpop%20ramp.png": {
     "image/png": "[encoded data removed]"
    }
   },
   "cell_type": "markdown",
   "metadata": {},
   "source": [
    "Your lm1988 table of 750 runningpop values (in order of non-decreasing RRinc values) should look like this image below.\n",
    "\n",
    "![runningpop%20ramp.png](attachment:runningpop%20ramp.png)"
   ]
  },
  {
   "cell_type": "code",
   "execution_count": 20,
   "metadata": {},
   "outputs": [
    {
     "data": {
      "text/plain": [
       "<matplotlib.axes._subplots.AxesSubplot at 0x71ba98126c90>"
      ]
     },
     "execution_count": 20,
     "metadata": {},
     "output_type": "execute_result"
    },
    {
     "data": {
      "image/png": "[encoded data removed]",
      "text/plain": [
       "<Figure size 432x288 with 1 Axes>"
      ]
     },
     "metadata": {
      "needs_background": "light"
     },
     "output_type": "display_data"
    }
   ],
   "source": [
    "lm1988.sort_values('runningpop').reset_index()['runningpop'].plot()"
   ]
  },
  {
   "cell_type": "code",
   "execution_count": 21,
   "metadata": {
    "deletable": false,
    "editable": false,
    "nbgrader": {
     "cell_type": "code",
     "checksum": "1b8c7ac7e2bfba971c795bfc7e4ceef4",
     "grade": true,
     "grade_id": "cell-1d3b1a1f0bb7db0d",
     "locked": true,
     "points": 5,
     "schema_version": 3,
     "solution": false,
     "task": false
    }
   },
   "outputs": [
    {
     "data": {
      "text/plain": [
       "\"A 'hidden test' will check your pop, RRinc and runningpop values in all the rows of lm1988\""
      ]
     },
     "execution_count": 21,
     "metadata": {},
     "output_type": "execute_result"
    }
   ],
   "source": [
    "'''The first thee values should match these (rounded to six decimal places)'''\n",
    "assert((lm1988.iloc[0].round(6) == pd.Series({'pop': 0.852521, 'RRinc': 82,'runningpop': 0.852521})).all())\n",
    "assert((lm1988.iloc[1].round(6) == pd.Series({'pop': 1.648236, 'RRinc': 85,'runningpop': 2.500758})).all())\n",
    "assert((lm1988.iloc[2].round(6) == pd.Series({'pop': 0.518956, 'RRinc': 87,'runningpop': 3.019714})).all())\n",
    "\n",
    "'''A 'hidden test' will check your pop, RRinc and runningpop values in all the rows of lm1988'''"
   ]
  },
  {
   "cell_type": "markdown",
   "metadata": {},
   "source": [
    "## Step 3 (5 Points)\n",
    "\n",
    "Use the Pandas cut() method to create a new field called \"ventile\" that contains an integer value from zero to 19 indicating which of 20 buckets each row belongs to, where each bucket represents approximately* the same population, with bucket zero holding the bottom 5% of the world population according to RRinc, and bucket 19 holding the top 5% of the world population according to RRinc.\n",
    "\n",
    "(\\*) *If we were being precise, we would divide the population in the RRinc record that crosses each ventile boundary. For the purposes of this exercise, we're going to skip that detail. This means that each \"ventile\" might represent a slightly different portion of the world population than exactly 5%.*"
   ]
  },
  {
   "cell_type": "code",
   "execution_count": 22,
   "metadata": {
    "deletable": false,
    "nbgrader": {
     "cell_type": "code",
     "checksum": "db27c1a85ff1d0830dbe4bd47d10f59a",
     "grade": false,
     "grade_id": "cell-f6752fe5b7d5c9a8",
     "locked": false,
     "schema_version": 3,
     "solution": true,
     "task": false
    }
   },
   "outputs": [],
   "source": [
    "'''Enter your solution below the \"your code here\" comment'''\n",
    "# your code here\n",
    "\n",
    "total_pop = lm1988['runningpop'].max()\n",
    "lm1988['percentile'] = lm1988['runningpop'] / total_pop * 100\n",
    "lm1988['ventile'] = pd.cut(lm1988['percentile'], bins=20, labels=False)\n",
    "\n",
    "#bins = [i * total_pop / 20 for i in range(21)]\n",
    "#bins[-1] += 1\n",
    "#lm1988['ventile'] = pd.cut(lm1988['runningpop'], bins=bins, labels=False, include_lowest=True, right=False)"
   ]
  },
  {
   "cell_type": "code",
   "execution_count": 23,
   "metadata": {
    "deletable": false,
    "editable": false,
    "nbgrader": {
     "cell_type": "code",
     "checksum": "95118678e2a8c9b08351430dca5d9b60",
     "grade": true,
     "grade_id": "cell-0021aa24dec0eb52",
     "locked": true,
     "points": 5,
     "schema_version": 3,
     "solution": false,
     "task": false
    }
   },
   "outputs": [
    {
     "data": {
      "text/plain": [
       "\"A 'hidden test' in this cell will check the ventile assignments of each row of lm1988\""
      ]
     },
     "execution_count": 23,
     "metadata": {},
     "output_type": "execute_result"
    }
   ],
   "source": [
    "'''The following RRinc records should fall into the following ventiles'''\n",
    "assert(lm1988[lm1988['RRinc'] == 82]['ventile'].values[0] == 0)\n",
    "assert(lm1988[lm1988['RRinc'] == 660]['ventile'].values[0] == 10)\n",
    "assert(lm1988[lm1988['RRinc'] == 43279]['ventile'].values[0] == 19)\n",
    "\n",
    "\"\"\"A 'hidden test' in this cell will check the ventile assignments of each row of lm1988\"\"\""
   ]
  },
  {
   "cell_type": "markdown",
   "metadata": {},
   "source": [
    "## Step 4 (10 Points)\n",
    "\n",
    "Use the Pandas groupby() method to create v1988 which is a 20 row dataframe grouped by 'ventile'. (v1988 should also be sorted in ventile order.) Each row of v1988 represents a single ventile, and has its 'RRinc' field value set to the mean of the 'RRinc' field values in lm1988 that share that 'ventile' value. Your v1988 dataframe should be ordered by ventile (0th first, 19th last)."
   ]
  },
  {
   "cell_type": "code",
   "execution_count": 24,
   "metadata": {
    "deletable": false,
    "nbgrader": {
     "cell_type": "code",
     "checksum": "caf98aaf57ba9067ae6ade032f16490c",
     "grade": false,
     "grade_id": "cell-6e7b8f4403680170",
     "locked": false,
     "schema_version": 3,
     "solution": true,
     "task": false
    }
   },
   "outputs": [
    {
     "name": "stdout",
     "output_type": "stream",
     "text": [
      "    ventile         RRinc\n",
      "0         0    146.650000\n",
      "1         1    220.866667\n",
      "2         2    267.800000\n",
      "3         3    302.900000\n",
      "4         4    337.600000\n",
      "5         5    380.933333\n",
      "6         6    422.857143\n",
      "7         7    458.500000\n",
      "8         8    511.333333\n",
      "9         9    589.142857\n",
      "10       10    663.833333\n",
      "11       11    854.295455\n",
      "12       12   1149.375000\n",
      "13       13   1547.673469\n",
      "14       14   2335.752941\n",
      "15       15   3766.407767\n",
      "16       16   5907.835052\n",
      "17       17   8707.367647\n",
      "18       18  12421.369565\n",
      "19       19  21245.357143\n"
     ]
    }
   ],
   "source": [
    "'''Enter your solution below the \"your code here\" comment'''\n",
    "# your code here\n",
    "\n",
    "v1988 = lm1988.groupby('ventile', as_index=False)['RRinc'].mean()\n",
    "v1988 = v1988.sort_values(by='ventile').reset_index(drop=True)\n",
    "\n",
    "print(v1988)"
   ]
  },
  {
   "cell_type": "code",
   "execution_count": 25,
   "metadata": {
    "deletable": false,
    "editable": false,
    "nbgrader": {
     "cell_type": "code",
     "checksum": "0e7afd574ea14f6e831c208089fa6552",
     "grade": true,
     "grade_id": "cell-5c7728b54234c923",
     "locked": true,
     "points": 5,
     "schema_version": 3,
     "solution": false,
     "task": false
    }
   },
   "outputs": [],
   "source": [
    "'''v1988 should be in ventile order'''\n",
    "assert(v1988.index.is_monotonic_increasing),(\n",
    "    \"Your v1988 dataframe is not properly sorted by ventile.\"\n",
    ")"
   ]
  },
  {
   "cell_type": "code",
   "execution_count": 26,
   "metadata": {
    "deletable": false,
    "editable": false,
    "nbgrader": {
     "cell_type": "code",
     "checksum": "aea9bce39a4e7c9fa5631062530e6627",
     "grade": true,
     "grade_id": "cell-e3f065fcddead1aa",
     "locked": true,
     "points": 5,
     "schema_version": 3,
     "solution": false,
     "task": false
    }
   },
   "outputs": [
    {
     "data": {
      "text/plain": [
       "'A hidden test will check the mean RRinc value for all 20 rows of your ventile dataframe'"
      ]
     },
     "execution_count": 26,
     "metadata": {},
     "output_type": "execute_result"
    }
   ],
   "source": [
    "'''The first three ventiles should have the following mean RRinc values'''\n",
    "assert(v1988.at[0,'RRinc'].round(2) == 146.65)\n",
    "assert(v1988.at[1,'RRinc'].round(2) == 220.87)\n",
    "assert(v1988.at[2,'RRinc'].round(2) == 267.8)\n",
    "\n",
    "'''A hidden test will check the mean RRinc value for all 20 rows of your ventile dataframe'''"
   ]
  },
  {
   "cell_type": "markdown",
   "metadata": {},
   "source": [
    "## Step 5 (5 Points)\n",
    "\n",
    "Do the same thing to create lm2008 and v2008 for the 2008 data with mysample = 1."
   ]
  },
  {
   "cell_type": "code",
   "execution_count": 27,
   "metadata": {
    "deletable": false,
    "nbgrader": {
     "cell_type": "code",
     "checksum": "e6e3820615f0e476df6a1d1e6a12a94b",
     "grade": false,
     "grade_id": "cell-287f97d91134eb24",
     "locked": false,
     "schema_version": 3,
     "solution": true,
     "task": false
    }
   },
   "outputs": [
    {
     "name": "stdout",
     "output_type": "stream",
     "text": [
      "    ventile         RRinc\n",
      "0         0    177.987013\n",
      "1         1    307.162791\n",
      "2         2    380.081081\n",
      "3         3    442.025641\n",
      "4         4    509.656250\n",
      "5         5    570.074074\n",
      "6         6    645.421053\n",
      "7         7    751.181818\n",
      "8         8    850.815789\n",
      "9         9    996.362069\n",
      "10       10   1191.775510\n",
      "11       11   1478.943662\n",
      "12       12   1832.298246\n",
      "13       13   2373.769231\n",
      "14       14   2998.555556\n",
      "15       15   3944.894737\n",
      "16       16   5826.833333\n",
      "17       17   9319.954545\n",
      "18       18  14688.666667\n",
      "19       19  29282.260870\n"
     ]
    }
   ],
   "source": [
    "'''Enter your solution below the \"your code here\" comment'''\n",
    "# your code here\n",
    "\n",
    "lm2008 = lmwpid[(lmwpid['bin_year'] == 2008) & (lmwpid['mysample'] == 1)][['pop','RRinc']]\n",
    "lm2008 = lm2008.sort_values(by='RRinc').reset_index(drop=True)\n",
    "lm2008['runningpop'] = lm2008['pop'].cumsum()\n",
    "\n",
    "total_pop = lm2008['runningpop'].max()\n",
    "lm2008['percentile'] = lm2008['runningpop'] / total_pop * 100\n",
    "lm2008['ventile'] = pd.cut(lm2008['percentile'], bins=20, labels=False)\n",
    "\n",
    "v2008 = lm2008.groupby('ventile', as_index=False)['RRinc'].mean()\n",
    "v2008 = v2008.sort_values(by='ventile').reset_index(drop=True)\n",
    "\n",
    "print(v2008)"
   ]
  },
  {
   "cell_type": "code",
   "execution_count": 28,
   "metadata": {
    "deletable": false,
    "editable": false,
    "nbgrader": {
     "cell_type": "code",
     "checksum": "260b69e4ae6b804b83267f09da8f1955",
     "grade": true,
     "grade_id": "cell-27c8a266513f77b7",
     "locked": true,
     "points": 5,
     "schema_version": 3,
     "solution": false,
     "task": false
    }
   },
   "outputs": [
    {
     "data": {
      "text/plain": [
       "'A hidden test will check all of your v2008 RRinc values (within two decimal places)'"
      ]
     },
     "execution_count": 28,
     "metadata": {},
     "output_type": "execute_result"
    }
   ],
   "source": [
    "'''The first three 2008 ventiles should have the following mean RRinc values'''\n",
    "assert(v2008.at[0,'RRinc'].round(2) == 177.99)\n",
    "assert(v2008.at[1,'RRinc'].round(2) == 307.16)\n",
    "assert(v2008.at[2,'RRinc'].round(2) == 380.08)\n",
    "\n",
    "'''A hidden test will check all of your v2008 RRinc values (within two decimal places)'''"
   ]
  },
  {
   "cell_type": "markdown",
   "metadata": {},
   "source": [
    "## Step 6 (5 Points)\n",
    "\n",
    "Create a new series* called 'elephant' that consists of twenty rows, with each row showing for that ventile the change in RRinc in 2008 relative to RRinc in 1988.\n",
    "\n",
    "(\\*) *A series, specifically a pd.Series, is like a dataframe but only has one column of data and so doesn't require a column heading.*"
   ]
  },
  {
   "cell_type": "code",
   "execution_count": 29,
   "metadata": {
    "deletable": false,
    "nbgrader": {
     "cell_type": "code",
     "checksum": "73b6145271b26dfe20a4eb0f5e894d52",
     "grade": false,
     "grade_id": "cell-3f3f4cfe6804001a",
     "locked": false,
     "schema_version": 3,
     "solution": true,
     "task": false
    }
   },
   "outputs": [
    {
     "name": "stdout",
     "output_type": "stream",
     "text": [
      "0     0.213686\n",
      "1     0.390716\n",
      "2     0.419272\n",
      "3     0.459312\n",
      "4     0.509645\n",
      "5     0.496519\n",
      "6     0.526334\n",
      "7     0.638346\n",
      "8     0.663916\n",
      "9     0.691206\n",
      "10    0.795293\n",
      "11    0.731185\n",
      "12    0.594169\n",
      "13    0.533766\n",
      "14    0.283764\n",
      "15    0.047389\n",
      "16   -0.013711\n",
      "17    0.070353\n",
      "18    0.182532\n",
      "19    0.378290\n",
      "Name: RRinc, dtype: float64\n"
     ]
    }
   ],
   "source": [
    "'''Enter your solution below the \"your code here\" comment'''\n",
    "# your code here\n",
    "elephant = pd.Series((v2008['RRinc'] - v1988['RRinc']) / v1988['RRinc']) \n",
    "\n",
    "print(elephant)"
   ]
  },
  {
   "cell_type": "code",
   "execution_count": 30,
   "metadata": {
    "deletable": false,
    "editable": false,
    "nbgrader": {
     "cell_type": "code",
     "checksum": "e3711c96f42831c3f491bb5b787d40d3",
     "grade": true,
     "grade_id": "cell-d93ceaabe9960e52",
     "locked": true,
     "points": 5,
     "schema_version": 3,
     "solution": false,
     "task": false
    }
   },
   "outputs": [
    {
     "data": {
      "text/plain": [
       "'A hidden test will check all 20 rows of your elephant series (within three decimal places)'"
      ]
     },
     "execution_count": 30,
     "metadata": {},
     "output_type": "execute_result"
    }
   ],
   "source": [
    "'''The first three elephant values should be the following relative RRinc growth ratios'''\n",
    "assert(elephant.at[0].round(3) == 0.214)\n",
    "assert(elephant.at[1].round(3) == 0.391)\n",
    "assert(elephant.at[2].round(3) == 0.419)\n",
    "\n",
    "'''A hidden test will check all 20 rows of your elephant series (within three decimal places)'''"
   ]
  },
  {
   "attachments": {
    "elephant%20plot.png": {
     "image/png": "[encoded data removed]"
    }
   },
   "cell_type": "markdown",
   "metadata": {},
   "source": [
    "If all goes right, then elephant.plot() should generate this plot.\n",
    "![elephant%20plot.png](attachment:elephant%20plot.png)"
   ]
  },
  {
   "cell_type": "code",
   "execution_count": 31,
   "metadata": {},
   "outputs": [
    {
     "data": {
      "text/plain": [
       "<matplotlib.axes._subplots.AxesSubplot at 0x71ba980ac7d0>"
      ]
     },
     "execution_count": 31,
     "metadata": {},
     "output_type": "execute_result"
    },
    {
     "data": {
      "image/png": "[encoded data removed]",
      "text/plain": [
       "<Figure size 432x288 with 1 Axes>"
      ]
     },
     "metadata": {
      "needs_background": "light"
     },
     "output_type": "display_data"
    }
   ],
   "source": [
    "elephant.plot()"
   ]
  },
  {
   "cell_type": "code",
   "execution_count": null,
   "metadata": {},
   "outputs": [],
   "source": []
  },
  {
   "cell_type": "code",
   "execution_count": null,
   "metadata": {},
   "outputs": [],
   "source": []
  }
 ],
 "metadata": {
  "kernelspec": {
   "display_name": "Python 3",
   "language": "python",
   "name": "python3"
  },
  "language_info": {
   "codemirror_mode": {
    "name": "ipython",
    "version": 3
   },
   "file_extension": ".py",
   "mimetype": "text/x-python",
   "name": "python",
   "nbconvert_exporter": "python",
   "pygments_lexer": "ipython3",
   "version": "3.7.6"
  }
 },
 "nbformat": 4,
 "nbformat_minor": 2
}
