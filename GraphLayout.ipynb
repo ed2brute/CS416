{
 "cells": [
  {
   "cell_type": "markdown",
   "metadata": {},
   "source": [
    "# Graph Layout\n",
    "In this exercise you'll write code to automatically layout a graph given only its edges."
   ]
  },
  {
   "cell_type": "code",
   "execution_count": 1,
   "metadata": {},
   "outputs": [],
   "source": [
    "import matplotlib\n",
    "import matplotlib.pyplot as plt\n",
    "import matplotlib.lines as lines\n",
    "%matplotlib inline"
   ]
  },
  {
   "cell_type": "code",
   "execution_count": 2,
   "metadata": {},
   "outputs": [],
   "source": [
    "import numpy as np\n",
    "from dv_utils import test_case_checker"
   ]
  },
  {
   "cell_type": "markdown",
   "metadata": {},
   "source": [
    "## Part 1: Representing and Plotting a Graph\n",
    "\n",
    "First we'll look at a simple six node graph with positions defined for each of the nodes in an x and y array."
   ]
  },
  {
   "cell_type": "code",
   "execution_count": 3,
   "metadata": {},
   "outputs": [],
   "source": [
    "x = np.array([0,0,1,0.5,1,1])"
   ]
  },
  {
   "cell_type": "code",
   "execution_count": 4,
   "metadata": {},
   "outputs": [],
   "source": [
    "y = np.array([0,1,1,0,0,0.5])"
   ]
  },
  {
   "cell_type": "code",
   "execution_count": 5,
   "metadata": {},
   "outputs": [
    {
     "name": "stdout",
     "output_type": "stream",
     "text": [
      "[0.  0.  1.  0.5 1.  1. ] [0.  1.  1.  0.  0.  0.5]\n"
     ]
    }
   ],
   "source": [
    "print(x,y)"
   ]
  },
  {
   "cell_type": "markdown",
   "metadata": {},
   "source": [
    "Then we'll define the graph as a list of eight edges. Each edge is of the form [i,j] indicates an edge between node i and node j. We don't need to explicitly define the nodes, we just assume the nodes are numbered from zero to the largest node referenced in the edge list. This is an undirected graph, so if [i,j] is in the edge list, [j,i] should not be in the edge list. We also don't assume any order, so either [i,j] or [j,i] can be used, and the edges can appear in any order in the list."
   ]
  },
  {
   "cell_type": "code",
   "execution_count": 6,
   "metadata": {},
   "outputs": [],
   "source": [
    "edges = np.array([[0,1],[0,3],[1,2],[1,4],[2,5],[3,4],[3,5],[4,5]])"
   ]
  },
  {
   "cell_type": "code",
   "execution_count": 7,
   "metadata": {},
   "outputs": [
    {
     "name": "stdout",
     "output_type": "stream",
     "text": [
      "[[0 1]\n",
      " [0 3]\n",
      " [1 2]\n",
      " [1 4]\n",
      " [2 5]\n",
      " [3 4]\n",
      " [3 5]\n",
      " [4 5]]\n"
     ]
    }
   ],
   "source": [
    "print(edges)"
   ]
  },
  {
   "cell_type": "markdown",
   "metadata": {},
   "source": [
    "The code below defines the procedure `graphplot(x,y,edges)`, which plots the graph by placing nodes at the positions using the `x` any `y` arrays for coordinates, and `edges` for the lines connecting these node positions. It does this by first plotting `x` and `y` as a scatterplot, using disks of area 500pts with a white fill and black stroke. It then annotating this scatterplot with the node indices. Once the nodes are plotted, the procedure cycles through `edges` and plots each edge `e` as a line in the scatterplot coordinate system to indicate a connection between the nodes, using the style string `'k-'` to indicate the solid lines (`-`) are black (`k`)."
   ]
  },
  {
   "cell_type": "code",
   "execution_count": 8,
   "metadata": {},
   "outputs": [],
   "source": [
    "def graphplot(x,y,edges):\n",
    "    # Display nodes as white disks with black borders with an area of 500 pts\n",
    "    plt.scatter(x,y,\n",
    "                c='white',edgecolors='black',\n",
    "                s = 500,zorder = 1)\n",
    "\n",
    "    # Label nodes by their index\n",
    "    for i in range(len(x)):\n",
    "        plt.annotate(i,[x[i],y[i]],zorder=2,ha='center',va='center')\n",
    "\n",
    "    # Display edges by plotting lines\n",
    "    for e in edges:\n",
    "        i = e[0]\n",
    "        j = e[1]\n",
    "        plt.plot([x[i],x[j]],[y[i],y[j]],'k-',zorder = 0)\n",
    "\n",
    "    plt.show()"
   ]
  },
  {
   "cell_type": "code",
   "execution_count": 9,
   "metadata": {},
   "outputs": [
    {
     "data": {
      "image/png": "[encoded data removed]",
      "text/plain": [
       "<Figure size 432x288 with 1 Axes>"
      ]
     },
     "metadata": {
      "needs_background": "light"
     },
     "output_type": "display_data"
    }
   ],
   "source": [
    "graphplot(x,y,edges)"
   ]
  },
  {
   "cell_type": "markdown",
   "metadata": {},
   "source": [
    "## Part 2: Solving a Laplacian to Layout a Planar Graph\n",
    "\n",
    "Now we can make a Laplacian matrix L for this graph. The (normalized) Laplacian matrix for a graph of n nodes is an n x n square identity matrix, with additional entries such that the entry at L[j,i] (row i, column j) is equal to -1/deg(i), where deg(i) is the degree (# of edges) of node i. Thus each row sums to zero.\n",
    "\n",
    "The Laplacian for our graph is shown below."
   ]
  },
  {
   "cell_type": "code",
   "execution_count": 10,
   "metadata": {},
   "outputs": [],
   "source": [
    "L = np.array([[1,-0.5,0,-.5,0,0],\n",
    "              [-0.333,1,-0.333,0,-0.333,0],\n",
    "              [0,-.5,1,0,0,-0.5],\n",
    "              [-0.333,0,0,1,-0.333,-0.333],\n",
    "              [0,-0.333,0,-.333,1,-0.333],\n",
    "              [0,0,-0.333,-0.333,-0.333,1]])"
   ]
  },
  {
   "cell_type": "code",
   "execution_count": 11,
   "metadata": {},
   "outputs": [
    {
     "data": {
      "text/plain": [
       "array([[ 1.   , -0.5  ,  0.   , -0.5  ,  0.   ,  0.   ],\n",
       "       [-0.333,  1.   , -0.333,  0.   , -0.333,  0.   ],\n",
       "       [ 0.   , -0.5  ,  1.   ,  0.   ,  0.   , -0.5  ],\n",
       "       [-0.333,  0.   ,  0.   ,  1.   , -0.333, -0.333],\n",
       "       [ 0.   , -0.333,  0.   , -0.333,  1.   , -0.333],\n",
       "       [ 0.   ,  0.   , -0.333, -0.333, -0.333,  1.   ]])"
      ]
     },
     "execution_count": 11,
     "metadata": {},
     "output_type": "execute_result"
    }
   ],
   "source": [
    "L"
   ]
  },
  {
   "cell_type": "markdown",
   "metadata": {},
   "source": [
    "Look what happens when you multiple the Laplacian matrix by one of our coordinates lists. The product Lx is\n",
    "\n",
    "$$\n",
    "L x = \\left[ \\begin{array}{cccccc}\n",
    "1 & -1/2 & 0 & -1/2 & 0 & 0 \\\\\n",
    "-1/3 & 1 & -1/3 & 0 & -1/3 & 0 \\\\\n",
    "0 & -1/2 & 1 & 0 & 0 & -1/2 \\\\\n",
    "-1/3 & 0 & 0 & 1 & -1/3 & -1/3 \\\\\n",
    "0 & -1/3 & 0 & -1/3 & 1 & -1/3 \\\\\n",
    "0 & 0 & -1/3 & -1/3 & -1/3 & 1\n",
    "\\end{array} \\right] \\left[ \\begin{array}{c}\n",
    "x_0 \\\\ x_1 \\\\ x_2 \\\\ x_3 \\\\ x_4 \\\\ x_5\n",
    "\\end{array} \\right] = \n",
    "\\left[ \\begin{array}{l}\n",
    "x_0 - \\frac{1}{2}(x_1 + x_3) \\\\\n",
    "x_1 - \\frac{1}{3}(x_0 + x_2 + x_4) \\\\\n",
    "x_2 - \\frac{1}{2}(x_1 + x_5) \\\\\n",
    "x_3 - \\frac{1}{3}(x_0 + x_4 + x_5) \\\\\n",
    "x_4 - \\frac{1}{3}(x_1 + x_3 + x_5) \\\\\n",
    "x_5 - \\frac{1}{3}(x_2 + x_3 + x_4)\n",
    "\\end{array} \\right]\n",
    "$$\n",
    "\n",
    "such that the result is the original $x$ with the average of its neighboring node positions subtracted.\n",
    "\n",
    "We can use this property to reposition each node to a new position that is the average of its neighboring positions. However, this can result in all nodes sharing one single same position which would not be useful. So we need to *pin* some nodes to fixed positions, and let the rest reposition themselves to these average positions.\n",
    "\n",
    "We'll pick nodes 0, 1 and 2, and replace their rows in the Laplacian with their corresponding rows in an ordinary identity matrix."
   ]
  },
  {
   "cell_type": "code",
   "execution_count": 12,
   "metadata": {},
   "outputs": [],
   "source": [
    "L[0] = np.array([1,0,0,0,0,0])\n",
    "L[1] = np.array([0,1,0,0,0,0])\n",
    "L[2] = np.array([0,0,1,0,0,0])"
   ]
  },
  {
   "cell_type": "code",
   "execution_count": 13,
   "metadata": {},
   "outputs": [
    {
     "data": {
      "text/plain": [
       "array([[ 1.   ,  0.   ,  0.   ,  0.   ,  0.   ,  0.   ],\n",
       "       [ 0.   ,  1.   ,  0.   ,  0.   ,  0.   ,  0.   ],\n",
       "       [ 0.   ,  0.   ,  1.   ,  0.   ,  0.   ,  0.   ],\n",
       "       [-0.333,  0.   ,  0.   ,  1.   , -0.333, -0.333],\n",
       "       [ 0.   , -0.333,  0.   , -0.333,  1.   , -0.333],\n",
       "       [ 0.   ,  0.   , -0.333, -0.333, -0.333,  1.   ]])"
      ]
     },
     "execution_count": 13,
     "metadata": {},
     "output_type": "execute_result"
    }
   ],
   "source": [
    "L"
   ]
  },
  {
   "cell_type": "markdown",
   "metadata": {},
   "source": [
    "We'll find new position arrays x and y by solving a linear system using this modified Laplacian L. These linear systems will be of the form Lx = b and Ly = c. In order to solve for x and y, we have to define b and c as follows."
   ]
  },
  {
   "cell_type": "code",
   "execution_count": 14,
   "metadata": {},
   "outputs": [],
   "source": [
    "b = np.array([0,0,1,0,0,0])"
   ]
  },
  {
   "cell_type": "code",
   "execution_count": 15,
   "metadata": {},
   "outputs": [],
   "source": [
    "c = np.array([0,1,1,0,0,0])"
   ]
  },
  {
   "cell_type": "markdown",
   "metadata": {},
   "source": [
    "Now Lx = b looks like this:\n",
    "\n",
    "$$L x = \\left[ \\begin{array}{cccccc}\n",
    "1 & 0 & 0 & 0 & 0 & 0 \\\\\n",
    "0 & 1 & 0 & 0 & 0 & 0 \\\\\n",
    "0 & 0 & 1 & 0 & 0 & 0 \\\\\n",
    "-1/3 & 0 & 0 & 1 & -1/3 & -1/3 \\\\\n",
    "0 & -1/3 & 0 & -1/3 & 1 & -1/3 \\\\\n",
    "0 & 0 & -1/3 & -1/3 & -1/3 & 1\n",
    "\\end{array} \\right] \\left[ \\begin{array}{c}\n",
    "x_0 \\\\ x_1 \\\\ x_2 \\\\ x_3 \\\\ x_4 \\\\ x_5\n",
    "\\end{array} \\right] =\n",
    "\\left[ \\begin{array}{l}\n",
    "0 \\\\ 0 \\\\ 1 \\\\ 0 \\\\ 0 \\\\ 0\n",
    "\\end{array} \\right]$$\n",
    "\n",
    "which is essentially the system of equations\n",
    "\n",
    "$$\\begin{array}{l}\n",
    "x_0 = 0 \\\\\n",
    "x_1 = 0 \\\\\n",
    "x_2 = 1 \\\\\n",
    "x_3 = x_3 - \\frac{1}{3}(x_0 + x_4 + x_5) \\\\\n",
    "x_4 = x_4 - \\frac{1}{3}(x_1 + x_3 + x_5) \\\\\n",
    "x_5 = x_5 - \\frac{1}{3}(x_2 + x_3 + x_4)\n",
    "\\end{array}$$\n",
    "\n",
    "and similarly for $Ly = c$.\n",
    "\n",
    "Thus nodes 0, 1 and 2 are repositioned to fixed positions, and nodes 3, 4 and 5 are moved toward positions that are the averages of their neighboring positions.\n",
    "\n",
    "We can use this revised Laplacian matrix $L$ that pins the first nodes to the first three coordinates in the $b$-array and $c$-array to solve for the coordinates of the remaining nodes in the $x$-array and $y$-array by solving the system $Lx = b$ for the x coordinates and $Ly = c$ for the $y$ coordinates. This gives us a planar layout of the nodes, with no edge crossings, if one exists."
   ]
  },
  {
   "cell_type": "code",
   "execution_count": 16,
   "metadata": {},
   "outputs": [],
   "source": [
    "x = np.linalg.solve(L,b)"
   ]
  },
  {
   "cell_type": "code",
   "execution_count": 17,
   "metadata": {},
   "outputs": [
    {
     "name": "stdout",
     "output_type": "stream",
     "text": [
      "[0.         0.         1.         0.24906451 0.24906451 0.49887696]\n"
     ]
    }
   ],
   "source": [
    "print(x)"
   ]
  },
  {
   "cell_type": "code",
   "execution_count": 18,
   "metadata": {},
   "outputs": [],
   "source": [
    "y = np.linalg.solve(L,c)"
   ]
  },
  {
   "cell_type": "code",
   "execution_count": 19,
   "metadata": {},
   "outputs": [
    {
     "name": "stdout",
     "output_type": "stream",
     "text": [
      "[0.         1.         1.         0.49812902 0.74794148 0.74794148]\n"
     ]
    }
   ],
   "source": [
    "print(y)"
   ]
  },
  {
   "cell_type": "code",
   "execution_count": 20,
   "metadata": {},
   "outputs": [
    {
     "data": {
      "image/png": "[encoded data removed]",
      "text/plain": [
       "<Figure size 432x288 with 1 Axes>"
      ]
     },
     "metadata": {
      "needs_background": "light"
     },
     "output_type": "display_data"
    }
   ],
   "source": [
    "graphplot(x,y,edges)"
   ]
  },
  {
   "cell_type": "markdown",
   "metadata": {},
   "source": [
    "## Part 3: Writing Code\n",
    "Now let's write some code. First let's create a new graph to work with."
   ]
  },
  {
   "cell_type": "code",
   "execution_count": 21,
   "metadata": {},
   "outputs": [],
   "source": [
    "x = np.array([0,0,1,1,0.5,1])\n",
    "y = np.array([0,1,1,0,1,0.5])"
   ]
  },
  {
   "cell_type": "code",
   "execution_count": 22,
   "metadata": {},
   "outputs": [],
   "source": [
    "edges = np.array([[0,1],[0,2],[0,3],[0,4],[0,5],[1,3],[1,4],[2,4],[2,5],[3,4]])"
   ]
  },
  {
   "cell_type": "code",
   "execution_count": 23,
   "metadata": {},
   "outputs": [
    {
     "data": {
      "image/png": "[encoded data removed]",
      "text/plain": [
       "<Figure size 432x288 with 1 Axes>"
      ]
     },
     "metadata": {
      "needs_background": "light"
     },
     "output_type": "display_data"
    }
   ],
   "source": [
    "graphplot(x,y,edges)"
   ]
  },
  {
   "cell_type": "markdown",
   "metadata": {},
   "source": [
    "When we create a Laplacian, we'll need to know the degree of each node. Below create a function `deg(i,edges)` that returns the degree of the node with index `i` of the graph described by `edges` which is a list of edges, with each edge denoted by a pair of node indices. Each edge appears only once, and each edge connects one node to a different node."
   ]
  },
  {
   "cell_type": "code",
   "execution_count": 24,
   "metadata": {
    "deletable": false
   },
   "outputs": [],
   "source": [
    "def deg(i,edges):\n",
    "    # your code here\n",
    "    #raise NotImplementedError\n",
    "    \n",
    "    # easy, logical way to loop through the edges\n",
    "    #count = 0\n",
    "    #for edge in edges:\n",
    "    #    if edge[0] == i or edge[1] == i:\n",
    "    #        count += 1\n",
    "    #return count\n",
    "\n",
    "    # fancy, brain tweaking way using numpy\n",
    "    mask = (edges[:, 0] == i) | (edges[:, 1] == i)\n",
    "    return np.sum(mask)"
   ]
  },
  {
   "cell_type": "code",
   "execution_count": 25,
   "metadata": {
    "code_folding": [
     35
    ],
    "deletable": false,
    "editable": false,
    "nbgrader": {
     "cell_type": "code",
     "checksum": "5d2938509efe553726d45d9d8fe02d20",
     "grade": true,
     "grade_id": "cell-9da6c6eca4140a53",
     "locked": true,
     "points": 1,
     "schema_version": 3,
     "solution": false,
     "task": false
    }
   },
   "outputs": [],
   "source": [
    "# The following cell contains the tests for Part 3, the deg Function.\n",
    "# You do not need to execute this cell or modify it.\n"
   ]
  },
  {
   "cell_type": "code",
   "execution_count": 26,
   "metadata": {},
   "outputs": [],
   "source": [
    "assert(deg(0,edges) == 5)\n",
    "assert(deg(1,edges) == 3)\n",
    "assert(deg(2,edges) == 3)\n",
    "assert(deg(3,edges) == 3)\n",
    "assert(deg(4,edges) == 4)\n",
    "assert(deg(5,edges) == 2)\n",
    "\n",
    "# Checking against the pre-computed test database\n",
    "test_results = test_case_checker(deg, task_id='part3_deg')\n",
    "assert test_results['passed'], test_results['message']"
   ]
  },
  {
   "cell_type": "markdown",
   "metadata": {},
   "source": [
    "Now we can write a function `lap(edges)` to compute the Laplacian matrix of the graph specified by `edges`. We can assume the graph is connected and there are no isolated edges, so all of the node indices appear at least once in the edge list and there are no indices missing between zero and the highest node index."
   ]
  },
  {
   "cell_type": "code",
   "execution_count": 27,
   "metadata": {
    "deletable": false
   },
   "outputs": [],
   "source": [
    "def lap(edges):\n",
    "    # your code here\n",
    "    #raise NotImplementedError\n",
    "    \n",
    "   # the maximum node index\n",
    "    n = edges.max() + 1\n",
    "    \n",
    "    # degree of each node\n",
    "    degree = np.array([deg(i, edges) for i in range(n)])\n",
    "    \n",
    "    # the Laplacian matrix\n",
    "    L = np.zeros((n,n))\n",
    "        \n",
    "    # fill the Laplacian matrix\n",
    "    for edge in edges:\n",
    "        i, j = edge\n",
    "        L[i, j] = -1 / degree[i]\n",
    "        L[j, i] = -1 / degree[j]\n",
    "    \n",
    "    # fill the diagonal elements with degrees\n",
    "    np.fill_diagonal(L, 1)\n",
    "    for i in range(n):\n",
    "        L[i, i] = 1\n",
    "        \n",
    "    return L"
   ]
  },
  {
   "cell_type": "code",
   "execution_count": 28,
   "metadata": {
    "code_folding": [
     45,
     49,
     58
    ],
    "deletable": false,
    "editable": false,
    "nbgrader": {
     "cell_type": "code",
     "checksum": "73d3426f2b3a88a9845d09e01e13aa39",
     "grade": true,
     "grade_id": "cell-d3e80cd14df15fbc",
     "locked": true,
     "points": 1,
     "schema_version": 3,
     "solution": false,
     "task": false
    }
   },
   "outputs": [],
   "source": [
    "# The following cells contains the tests for Part (3), the lap Function.\n",
    "# You do not need to execute this cell or modify it.\n"
   ]
  },
  {
   "cell_type": "code",
   "execution_count": 29,
   "metadata": {},
   "outputs": [],
   "source": [
    "L = lap(edges)\n",
    "\n",
    "assert(all(np.round(L[0],3) == np.array([1,-.2,-.2,-.2,-.2,-.2])))\n",
    "assert(all(np.round(L[1],3) == np.array([-0.333,1,0,-0.333,-.333,0])))\n",
    "assert(all(np.round(L[2],3) == np.array([-0.333,0,1,0,-0.333,-.333])))\n",
    "assert(all(np.round(L[3],3) == np.array([-0.333,-0.333,0,1,-.333,0])))\n",
    "assert(all(np.round(L[4],3) == np.array([-0.25,-0.25,-0.25,-0.25,1,0])))\n",
    "assert(all(np.round(L[5],3) == np.array([-0.5,0,-0.5,0,0,1])))\n",
    "\n",
    "# Checking against the pre-computed test database\n",
    "test_results = test_case_checker(lap, task_id='part3_lap')\n",
    "assert test_results['passed'], test_results['message']"
   ]
  },
  {
   "cell_type": "markdown",
   "metadata": {},
   "source": [
    "## Part 4: Layout the Graph\n",
    "Now you can use your Laplacian matrix to layout the graph so it is planar and doesn't have any edge crossings so it is easier to visualize.\n",
    "\n",
    "Pin nodes 0, 1 and 2 to the positions we used for them above, specifically (0,0), (0,1) and (1,1), and solve the Laplacian systems to find the coordinates of nodes 3, 4 and 5.\n",
    "\n",
    "You should compute the `x` and `y` variables correctly in the next cell."
   ]
  },
  {
   "cell_type": "code",
   "execution_count": 30,
   "metadata": {
    "deletable": false
   },
   "outputs": [],
   "source": [
    "# your code here\n",
    "#raise NotImplementedError\n",
    "\n",
    "# define the positions and edges of the graph\n",
    "initial_positions = np.array([\n",
    "    [0, 0],  # Node 0\n",
    "    [0, 1],  # Node 1\n",
    "    [1, 1]   # Node 2\n",
    "])\n",
    "\n",
    "x_fixed = initial_positions[:, 0]\n",
    "y_fixed = initial_positions[:, 1]\n",
    "num_fixed = len(initial_positions)\n",
    "\n",
    "# pin nodes 0, 1, and 2 to their initial positions\n",
    "pinned_nodes = np.array([0, 1, 2])\n",
    "L = lap(edges)\n",
    "\n",
    "for i in pinned_nodes:\n",
    "    L[i, :] = 0\n",
    "    L[i, i] = 1\n",
    "    \n",
    "# define b and c vectors for the fixed positions\n",
    "b = np.zeros(L.shape[0])\n",
    "c = np.zeros(L.shape[0])\n",
    "b[pinned_nodes] = x_fixed\n",
    "c[pinned_nodes] = y_fixed \n",
    "\n",
    "# solve the Laplacian systems\n",
    "x = np.linalg.solve(L, b)\n",
    "y = np.linalg.solve(L, c)\n",
    "\n",
    "#print(f\"New x positions: {x}\")\n",
    "#print(f\"New y positions: {y}\")"
   ]
  },
  {
   "cell_type": "code",
   "execution_count": 31,
   "metadata": {
    "deletable": false,
    "editable": false,
    "nbgrader": {
     "cell_type": "code",
     "checksum": "399a99fbb4c3b2b2dee9ec1ba54ea365",
     "grade": true,
     "grade_id": "cell-b986f9d349f2f9d9",
     "locked": true,
     "points": 1,
     "schema_version": 3,
     "solution": false,
     "task": false
    }
   },
   "outputs": [],
   "source": [
    "# The following cell contains the tests for Part (4), the Layout.\n",
    "# You do not need to execute this cell or modify it.\n"
   ]
  },
  {
   "cell_type": "code",
   "execution_count": 32,
   "metadata": {},
   "outputs": [],
   "source": [
    "assert(all(np.round(L[0],3) == np.array([1,0,0,0,0,0])))\n",
    "assert(all(np.round(L[4],3) == np.array([-.25,-.25,-.25,-.25,1,0])))\n",
    "assert(np.round(x[3],3) == 0.091)\n",
    "assert(np.round(y[4],3) == 0.636)"
   ]
  },
  {
   "cell_type": "code",
   "execution_count": 33,
   "metadata": {},
   "outputs": [
    {
     "data": {
      "image/png": "[encoded data removed]",
      "text/plain": [
       "<Figure size 432x288 with 1 Axes>"
      ]
     },
     "metadata": {
      "needs_background": "light"
     },
     "output_type": "display_data"
    }
   ],
   "source": [
    "graphplot(x,y,edges)"
   ]
  },
  {
   "cell_type": "code",
   "execution_count": null,
   "metadata": {},
   "outputs": [],
   "source": []
  }
 ],
 "metadata": {
  "illinois_payload": {
   "b64z": "",
   "nb_path": "release/GraphLayout/GraphLayout.ipynb"
  },
  "kernelspec": {
   "display_name": "Python 3 (Threads: 2)",
   "language": "python",
   "name": "python3"
  },
  "language_info": {
   "codemirror_mode": {
    "name": "ipython",
    "version": 3
   },
   "file_extension": ".py",
   "mimetype": "text/x-python",
   "name": "python",
   "nbconvert_exporter": "python",
   "pygments_lexer": "ipython3",
   "version": "3.8.10"
  }
 },
 "nbformat": 4,
 "nbformat_minor": 2
}
